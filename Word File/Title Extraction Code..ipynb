{
 "cells": [
  {
   "cell_type": "code",
   "execution_count": 1,
   "metadata": {},
   "outputs": [],
   "source": [
    "from urllib.request import urlopen\n",
    "from urllib.error import HTTPError\n",
    "from bs4 import BeautifulSoup"
   ]
  },
  {
   "cell_type": "code",
   "execution_count": 2,
   "metadata": {},
   "outputs": [],
   "source": [
    "def getTitle(url):\n",
    "    try:\n",
    "        html = urlopen(url)\n",
    "    except HTTPError as e:\n",
    "        return None\n",
    "    try:\n",
    "        bsObj = BeautifulSoup(html.read(), \"lxml\")\n",
    "        title = bsObj.body.h1\n",
    "    except AttributeError as e:\n",
    "        return None\n",
    "    return title"
   ]
  },
  {
   "cell_type": "code",
   "execution_count": 3,
   "metadata": {},
   "outputs": [
    {
     "name": "stdout",
     "output_type": "stream",
     "text": [
      "<h1>Example Domain</h1>\n"
     ]
    }
   ],
   "source": [
    "print(getTitle(\"http://www.example.com/\"))"
   ]
  },
  {
   "cell_type": "code",
   "execution_count": 4,
   "metadata": {},
   "outputs": [
    {
     "name": "stdout",
     "output_type": "stream",
     "text": [
      "Requirement already satisfied: icrawler in c:\\users\\punee\\anaconda3\\lib\\site-packages (0.6.3)\n",
      "Requirement already satisfied: requests>=2.9.1 in c:\\users\\punee\\anaconda3\\lib\\site-packages (from icrawler) (2.23.0)\n",
      "Requirement already satisfied: beautifulsoup4>=4.4.1 in c:\\users\\punee\\anaconda3\\lib\\site-packages (from icrawler) (4.8.2)\n",
      "Requirement already satisfied: six>=1.10.0 in c:\\users\\punee\\anaconda3\\lib\\site-packages (from icrawler) (1.14.0)\n",
      "Requirement already satisfied: Pillow in c:\\users\\punee\\anaconda3\\lib\\site-packages (from icrawler) (7.0.0)\n",
      "Requirement already satisfied: lxml in c:\\users\\punee\\anaconda3\\lib\\site-packages (from icrawler) (4.5.0)\n",
      "Requirement already satisfied: chardet<4,>=3.0.2 in c:\\users\\punee\\anaconda3\\lib\\site-packages (from requests>=2.9.1->icrawler) (3.0.4)\n",
      "Requirement already satisfied: idna<3,>=2.5 in c:\\users\\punee\\anaconda3\\lib\\site-packages (from requests>=2.9.1->icrawler) (2.9)\n",
      "Requirement already satisfied: urllib3!=1.25.0,!=1.25.1,<1.26,>=1.21.1 in c:\\users\\punee\\anaconda3\\lib\\site-packages (from requests>=2.9.1->icrawler) (1.25.8)\n",
      "Requirement already satisfied: certifi>=2017.4.17 in c:\\users\\punee\\anaconda3\\lib\\site-packages (from requests>=2.9.1->icrawler) (2019.11.28)\n",
      "Requirement already satisfied: soupsieve>=1.2 in c:\\users\\punee\\anaconda3\\lib\\site-packages (from beautifulsoup4>=4.4.1->icrawler) (2.0)\n",
      "Note: you may need to restart the kernel to use updated packages.\n"
     ]
    }
   ],
   "source": [
    "pip install icrawler"
   ]
  },
  {
   "cell_type": "code",
   "execution_count": 5,
   "metadata": {},
   "outputs": [
    {
     "name": "stderr",
     "output_type": "stream",
     "text": [
      "2020-08-27 17:08:02,063 - INFO - icrawler.crawler - start crawling...\n",
      "2020-08-27 17:08:02,064 - INFO - icrawler.crawler - starting 1 feeder threads...\n",
      "2020-08-27 17:08:02,066 - INFO - feeder - thread feeder-001 exit\n",
      "2020-08-27 17:08:02,070 - INFO - icrawler.crawler - starting 1 parser threads...\n",
      "2020-08-27 17:08:02,074 - INFO - icrawler.crawler - starting 1 downloader threads...\n",
      "2020-08-27 17:08:02,735 - INFO - parser - parsing result page https://www.google.com/search?q=sushant+singh+rajput&ijn=0&start=0&tbs=&tbm=isch\n",
      "Exception in thread parser-001:\n",
      "Traceback (most recent call last):\n",
      "  File \"C:\\Users\\punee\\Anaconda3\\lib\\threading.py\", line 926, in _bootstrap_inner\n",
      "    self.run()\n",
      "  File \"C:\\Users\\punee\\Anaconda3\\lib\\threading.py\", line 870, in run\n",
      "    self._target(*self._args, **self._kwargs)\n",
      "  File \"C:\\Users\\punee\\Anaconda3\\lib\\site-packages\\icrawler\\parser.py\", line 104, in worker_exec\n",
      "    for task in self.parse(response, **kwargs):\n",
      "  File \"C:\\Users\\punee\\Anaconda3\\lib\\site-packages\\icrawler\\builtin\\google.py\", line 157, in parse\n",
      "    meta = json.loads(txt)\n",
      "  File \"C:\\Users\\punee\\Anaconda3\\lib\\json\\__init__.py\", line 348, in loads\n",
      "    return _default_decoder.decode(s)\n",
      "  File \"C:\\Users\\punee\\Anaconda3\\lib\\json\\decoder.py\", line 337, in decode\n",
      "    obj, end = self.raw_decode(s, idx=_w(s, 0).end())\n",
      "  File \"C:\\Users\\punee\\Anaconda3\\lib\\json\\decoder.py\", line 355, in raw_decode\n",
      "    raise JSONDecodeError(\"Expecting value\", s, err.value) from None\n",
      "json.decoder.JSONDecodeError: Expecting value: line 1 column 1 (char 0)\n",
      "\n",
      "2020-08-27 17:08:07,078 - INFO - downloader - no more download task for thread downloader-001\n",
      "2020-08-27 17:08:07,082 - INFO - downloader - thread downloader-001 exit\n",
      "2020-08-27 17:08:08,083 - INFO - icrawler.crawler - Crawling task done!\n"
     ]
    }
   ],
   "source": [
    "from icrawler.builtin import GoogleImageCrawler\n",
    "google_Crawler = GoogleImageCrawler(storage = {'root_dir': r'C:\\Users\\punee\\Downloads\\sushant singh rajput'})\n",
    "google_Crawler.crawl(keyword = 'sushant singh rajput', max_num = 10)"
   ]
  },
  {
   "cell_type": "code",
   "execution_count": null,
   "metadata": {},
   "outputs": [],
   "source": []
  },
  {
   "cell_type": "code",
   "execution_count": null,
   "metadata": {},
   "outputs": [],
   "source": []
  },
  {
   "cell_type": "code",
   "execution_count": null,
   "metadata": {},
   "outputs": [],
   "source": []
  },
  {
   "cell_type": "code",
   "execution_count": null,
   "metadata": {},
   "outputs": [],
   "source": []
  }
 ],
 "metadata": {
  "kernelspec": {
   "display_name": "Python 3",
   "language": "python",
   "name": "python3"
  },
  "language_info": {
   "codemirror_mode": {
    "name": "ipython",
    "version": 3
   },
   "file_extension": ".py",
   "mimetype": "text/x-python",
   "name": "python",
   "nbconvert_exporter": "python",
   "pygments_lexer": "ipython3",
   "version": "3.7.7"
  }
 },
 "nbformat": 4,
 "nbformat_minor": 4
}
