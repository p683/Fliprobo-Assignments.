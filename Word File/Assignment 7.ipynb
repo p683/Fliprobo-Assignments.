{
 "cells": [
  {
   "cell_type": "code",
   "execution_count": 12,
   "metadata": {},
   "outputs": [
    {
     "name": "stderr",
     "output_type": "stream",
     "text": [
      "[nltk_data] Downloading package punkt to C:\\Users\\PRATIK\n",
      "[nltk_data]     PANIGRAHI\\AppData\\Roaming\\nltk_data...\n",
      "[nltk_data]   Unzipping tokenizers\\punkt.zip.\n"
     ]
    }
   ],
   "source": [
    "import nltk\n",
    "nltk.download('punkt')\n",
    "from gensim.models import Word2Vec\n",
    "from nltk.corpus import stopwords\n",
    "import matplotlib.pyplot as plt\n",
    "%matplotlib inline\n",
    "import re"
   ]
  },
  {
   "cell_type": "code",
   "execution_count": 43,
   "metadata": {},
   "outputs": [],
   "source": [
    "data=\"Property owned by a person or a place regularly used by him constitutes a private territory and, like personal air space, he will fight to protect it. Such things as a person’s home, office and motor car represent a territory, each having clearly marked boundaries in the form of walls, gates, fences and doors. Each territory may have several sub-territories. For example, in a home a woman’s private territory may be her kitchen and laundry and she objects to anyone invading that space when she is using it, a businessman has his favourite place at the conference table, diners have their favourite seat in the canteen and father has his favourite chair at home. These areas are usually marked either by leaving personal possessions on or around the area, or by frequent use of it. The canteen diner may even go so far as to carve his initials into ‘his’ place at the table and the businessman marks his -territory at the conference table with such items as an ashtray, pens, books and clothing spread around his 46centimetre intimate zone border. Dr Desmond Morris noted that studies carried out into seating positions in libraries show that leaving a book or personal object on a library desk reserved that place for an average of seventy-seven minutes; leaving a jacket over a chair reserved it for two hours. At home a family member might mark his or her favourite chair by leaving a personal object, such as a pipe or magazine, on or near it to show his or her claim and ownership of the space.\""
   ]
  },
  {
   "cell_type": "code",
   "execution_count": 44,
   "metadata": {},
   "outputs": [],
   "source": [
    "# Preprocessing the data  (for more details on regular expression visit https://regexr.com/)\n",
    "text = re.sub(r'\\[[0-9]*\\]',' ',data)\n",
    "text = re.sub(r'\\s+',' ',text)\n",
    "\n",
    "text = text.lower()\n",
    "\n",
    "text = re.sub(r'\\d',' ',text)\n",
    "text = re.sub(r'\\s+',' ',text)"
   ]
  },
  {
   "cell_type": "code",
   "execution_count": 45,
   "metadata": {},
   "outputs": [
    {
     "data": {
      "text/plain": [
       "['property owned by a person or a place regularly used by him constitutes a private territory and, like personal air space, he will fight to protect it.',\n",
       " 'such things as a person’s home, office and motor car represent a territory, each having clearly marked boundaries in the form of walls, gates, fences and doors.',\n",
       " 'each territory may have several sub-territories.',\n",
       " 'for example, in a home a woman’s private territory may be her kitchen and laundry and she objects to anyone invading that space when she is using it, a businessman has his favourite place at the conference table, diners have their favourite seat in the canteen and father has his favourite chair at home.',\n",
       " 'these areas are usually marked either by leaving personal possessions on or around the area, or by frequent use of it.',\n",
       " 'the canteen diner may even go so far as to carve his initials into ‘his’ place at the table and the businessman marks his -territory at the conference table with such items as an ashtray, pens, books and clothing spread around his centimetre intimate zone border.',\n",
       " 'dr desmond morris noted that studies carried out into seating positions in libraries show that leaving a book or personal object on a library desk reserved that place for an average of seventy-seven minutes; leaving a jacket over a chair reserved it for two hours.',\n",
       " 'at home a family member might mark his or her favourite chair by leaving a personal object, such as a pipe or magazine, on or near it to show his or her claim and ownership of the space.']"
      ]
     },
     "execution_count": 45,
     "metadata": {},
     "output_type": "execute_result"
    }
   ],
   "source": [
    "# Preparing the dataset\n",
    "sentences = nltk.sent_tokenize(text)\n",
    "sentences"
   ]
  },
  {
   "cell_type": "code",
   "execution_count": 46,
   "metadata": {},
   "outputs": [],
   "source": [
    "sent_word = [nltk.word_tokenize(sentence) for sentence in sentences]"
   ]
  },
  {
   "cell_type": "code",
   "execution_count": 47,
   "metadata": {},
   "outputs": [
    {
     "data": {
      "text/plain": [
       "[['property',\n",
       "  'owned',\n",
       "  'by',\n",
       "  'a',\n",
       "  'person',\n",
       "  'or',\n",
       "  'a',\n",
       "  'place',\n",
       "  'regularly',\n",
       "  'used',\n",
       "  'by',\n",
       "  'him',\n",
       "  'constitutes',\n",
       "  'a',\n",
       "  'private',\n",
       "  'territory',\n",
       "  'and',\n",
       "  ',',\n",
       "  'like',\n",
       "  'personal',\n",
       "  'air',\n",
       "  'space',\n",
       "  ',',\n",
       "  'he',\n",
       "  'will',\n",
       "  'fight',\n",
       "  'to',\n",
       "  'protect',\n",
       "  'it',\n",
       "  '.'],\n",
       " ['such',\n",
       "  'things',\n",
       "  'as',\n",
       "  'a',\n",
       "  'person',\n",
       "  '’',\n",
       "  's',\n",
       "  'home',\n",
       "  ',',\n",
       "  'office',\n",
       "  'and',\n",
       "  'motor',\n",
       "  'car',\n",
       "  'represent',\n",
       "  'a',\n",
       "  'territory',\n",
       "  ',',\n",
       "  'each',\n",
       "  'having',\n",
       "  'clearly',\n",
       "  'marked',\n",
       "  'boundaries',\n",
       "  'in',\n",
       "  'the',\n",
       "  'form',\n",
       "  'of',\n",
       "  'walls',\n",
       "  ',',\n",
       "  'gates',\n",
       "  ',',\n",
       "  'fences',\n",
       "  'and',\n",
       "  'doors',\n",
       "  '.'],\n",
       " ['each', 'territory', 'may', 'have', 'several', 'sub-territories', '.'],\n",
       " ['for',\n",
       "  'example',\n",
       "  ',',\n",
       "  'in',\n",
       "  'a',\n",
       "  'home',\n",
       "  'a',\n",
       "  'woman',\n",
       "  '’',\n",
       "  's',\n",
       "  'private',\n",
       "  'territory',\n",
       "  'may',\n",
       "  'be',\n",
       "  'her',\n",
       "  'kitchen',\n",
       "  'and',\n",
       "  'laundry',\n",
       "  'and',\n",
       "  'she',\n",
       "  'objects',\n",
       "  'to',\n",
       "  'anyone',\n",
       "  'invading',\n",
       "  'that',\n",
       "  'space',\n",
       "  'when',\n",
       "  'she',\n",
       "  'is',\n",
       "  'using',\n",
       "  'it',\n",
       "  ',',\n",
       "  'a',\n",
       "  'businessman',\n",
       "  'has',\n",
       "  'his',\n",
       "  'favourite',\n",
       "  'place',\n",
       "  'at',\n",
       "  'the',\n",
       "  'conference',\n",
       "  'table',\n",
       "  ',',\n",
       "  'diners',\n",
       "  'have',\n",
       "  'their',\n",
       "  'favourite',\n",
       "  'seat',\n",
       "  'in',\n",
       "  'the',\n",
       "  'canteen',\n",
       "  'and',\n",
       "  'father',\n",
       "  'has',\n",
       "  'his',\n",
       "  'favourite',\n",
       "  'chair',\n",
       "  'at',\n",
       "  'home',\n",
       "  '.'],\n",
       " ['these',\n",
       "  'areas',\n",
       "  'are',\n",
       "  'usually',\n",
       "  'marked',\n",
       "  'either',\n",
       "  'by',\n",
       "  'leaving',\n",
       "  'personal',\n",
       "  'possessions',\n",
       "  'on',\n",
       "  'or',\n",
       "  'around',\n",
       "  'the',\n",
       "  'area',\n",
       "  ',',\n",
       "  'or',\n",
       "  'by',\n",
       "  'frequent',\n",
       "  'use',\n",
       "  'of',\n",
       "  'it',\n",
       "  '.'],\n",
       " ['the',\n",
       "  'canteen',\n",
       "  'diner',\n",
       "  'may',\n",
       "  'even',\n",
       "  'go',\n",
       "  'so',\n",
       "  'far',\n",
       "  'as',\n",
       "  'to',\n",
       "  'carve',\n",
       "  'his',\n",
       "  'initials',\n",
       "  'into',\n",
       "  '‘',\n",
       "  'his',\n",
       "  '’',\n",
       "  'place',\n",
       "  'at',\n",
       "  'the',\n",
       "  'table',\n",
       "  'and',\n",
       "  'the',\n",
       "  'businessman',\n",
       "  'marks',\n",
       "  'his',\n",
       "  '-territory',\n",
       "  'at',\n",
       "  'the',\n",
       "  'conference',\n",
       "  'table',\n",
       "  'with',\n",
       "  'such',\n",
       "  'items',\n",
       "  'as',\n",
       "  'an',\n",
       "  'ashtray',\n",
       "  ',',\n",
       "  'pens',\n",
       "  ',',\n",
       "  'books',\n",
       "  'and',\n",
       "  'clothing',\n",
       "  'spread',\n",
       "  'around',\n",
       "  'his',\n",
       "  'centimetre',\n",
       "  'intimate',\n",
       "  'zone',\n",
       "  'border',\n",
       "  '.'],\n",
       " ['dr',\n",
       "  'desmond',\n",
       "  'morris',\n",
       "  'noted',\n",
       "  'that',\n",
       "  'studies',\n",
       "  'carried',\n",
       "  'out',\n",
       "  'into',\n",
       "  'seating',\n",
       "  'positions',\n",
       "  'in',\n",
       "  'libraries',\n",
       "  'show',\n",
       "  'that',\n",
       "  'leaving',\n",
       "  'a',\n",
       "  'book',\n",
       "  'or',\n",
       "  'personal',\n",
       "  'object',\n",
       "  'on',\n",
       "  'a',\n",
       "  'library',\n",
       "  'desk',\n",
       "  'reserved',\n",
       "  'that',\n",
       "  'place',\n",
       "  'for',\n",
       "  'an',\n",
       "  'average',\n",
       "  'of',\n",
       "  'seventy-seven',\n",
       "  'minutes',\n",
       "  ';',\n",
       "  'leaving',\n",
       "  'a',\n",
       "  'jacket',\n",
       "  'over',\n",
       "  'a',\n",
       "  'chair',\n",
       "  'reserved',\n",
       "  'it',\n",
       "  'for',\n",
       "  'two',\n",
       "  'hours',\n",
       "  '.'],\n",
       " ['at',\n",
       "  'home',\n",
       "  'a',\n",
       "  'family',\n",
       "  'member',\n",
       "  'might',\n",
       "  'mark',\n",
       "  'his',\n",
       "  'or',\n",
       "  'her',\n",
       "  'favourite',\n",
       "  'chair',\n",
       "  'by',\n",
       "  'leaving',\n",
       "  'a',\n",
       "  'personal',\n",
       "  'object',\n",
       "  ',',\n",
       "  'such',\n",
       "  'as',\n",
       "  'a',\n",
       "  'pipe',\n",
       "  'or',\n",
       "  'magazine',\n",
       "  ',',\n",
       "  'on',\n",
       "  'or',\n",
       "  'near',\n",
       "  'it',\n",
       "  'to',\n",
       "  'show',\n",
       "  'his',\n",
       "  'or',\n",
       "  'her',\n",
       "  'claim',\n",
       "  'and',\n",
       "  'ownership',\n",
       "  'of',\n",
       "  'the',\n",
       "  'space',\n",
       "  '.']]"
      ]
     },
     "execution_count": 47,
     "metadata": {},
     "output_type": "execute_result"
    }
   ],
   "source": [
    "sent_word"
   ]
  },
  {
   "cell_type": "code",
   "execution_count": 18,
   "metadata": {},
   "outputs": [],
   "source": [
    "#for i in range(len(sent_word)):\n",
    "#    sent_word[i] = [word for word in sent_word[i]\n",
    " #                   if word not in stopwords.words('english')]"
   ]
  },
  {
   "cell_type": "code",
   "execution_count": 42,
   "metadata": {},
   "outputs": [],
   "source": [
    "#sent_word"
   ]
  },
  {
   "cell_type": "code",
   "execution_count": 48,
   "metadata": {},
   "outputs": [],
   "source": [
    "# Training the Word2Vec model\n",
    "model = Word2Vec(sent_word, min_count=1)\n",
    "\n",
    "\n",
    "words = model.wv.vocab"
   ]
  },
  {
   "cell_type": "code",
   "execution_count": 49,
   "metadata": {},
   "outputs": [
    {
     "name": "stdout",
     "output_type": "stream",
     "text": [
      "[-3.8077678e-03  4.1918349e-03 -5.0224182e-03  5.2041980e-04\n",
      "  4.2831735e-03 -4.3126778e-03  4.1384294e-04  3.3159755e-04\n",
      " -3.3292493e-03  4.6957340e-03  3.5516226e-03 -4.5855092e-03\n",
      " -2.5516113e-03 -4.6474743e-03  4.5012934e-03 -1.9158972e-03\n",
      " -3.2406236e-04  4.2379838e-03 -2.9849706e-03  3.2852089e-03\n",
      " -3.5293833e-03  3.6011364e-03  4.8802458e-03  2.1886979e-03\n",
      " -2.4468077e-03 -1.3537693e-03 -6.8156049e-04 -4.0880828e-03\n",
      " -1.1916835e-03  2.9677246e-04  1.8430195e-03  7.7149342e-04\n",
      "  5.7666691e-04  1.4904703e-03 -2.8401795e-03  1.9447391e-04\n",
      "  5.5865485e-06 -1.2918814e-03 -1.8614631e-03  4.4000307e-03\n",
      " -4.6755611e-03 -2.0472747e-03 -4.0231473e-03  3.7698355e-03\n",
      "  4.5241741e-03  2.4782869e-03  3.7791233e-03 -1.1054855e-03\n",
      " -3.7165489e-03 -1.4595212e-04  1.1338062e-03 -1.3225722e-03\n",
      "  4.2495034e-03 -2.8096430e-03  3.6985802e-03 -3.1316264e-03\n",
      "  1.7854463e-03 -2.4541179e-03  1.8453033e-03  1.9415959e-03\n",
      "  3.2265470e-03  2.1357441e-03  3.4360739e-03 -2.5159940e-03\n",
      " -9.7358262e-04 -3.3766665e-03  6.1086036e-04 -2.5092107e-03\n",
      " -3.2731083e-03  1.9460071e-03 -2.3239812e-04 -2.5164131e-03\n",
      "  1.9080062e-04 -5.0923385e-04 -4.4446127e-03  4.6956823e-03\n",
      "  2.5727891e-04  3.6601680e-03 -1.6890287e-03 -7.1227911e-04\n",
      " -4.2700632e-03  3.7343216e-03 -2.8926861e-03  1.5971338e-03\n",
      "  9.0838451e-04  3.9570611e-03 -2.8807244e-03 -8.1390364e-04\n",
      " -2.9059490e-03  4.0050484e-03 -4.3371716e-03  2.2667916e-03\n",
      " -1.0763470e-03 -3.9006148e-03 -3.7291106e-03  3.3168206e-03\n",
      " -3.3780891e-03  3.9243191e-03  5.0047073e-03 -1.8875671e-04]\n"
     ]
    }
   ],
   "source": [
    "# Test the word vectors\n",
    "vector = model.wv['person']\n",
    "\n",
    "print(vector)"
   ]
  },
  {
   "cell_type": "code",
   "execution_count": 50,
   "metadata": {},
   "outputs": [
    {
     "data": {
      "text/plain": [
       "[('he', 0.2201300710439682),\n",
       " ('several', 0.1968790888786316),\n",
       " ('two', 0.19022086262702942),\n",
       " ('private', 0.18620362877845764),\n",
       " ('businessman', 0.18385130167007446),\n",
       " ('fight', 0.18105430901050568),\n",
       " ('car', 0.17561790347099304),\n",
       " ('‘', 0.16667227447032928),\n",
       " ('carried', 0.14902374148368835),\n",
       " ('near', 0.14414630830287933),\n",
       " ('into', 0.13703180849552155),\n",
       " ('doors', 0.13464517891407013),\n",
       " ('zone', 0.13441912829875946),\n",
       " ('so', 0.12885357439517975),\n",
       " ('with', 0.12872083485126495),\n",
       " ('possessions', 0.1254286766052246),\n",
       " ('pipe', 0.11998099833726883),\n",
       " ('might', 0.11797904968261719),\n",
       " ('regularly', 0.11612869054079056),\n",
       " ('out', 0.1151297390460968)]"
      ]
     },
     "execution_count": 50,
     "metadata": {},
     "output_type": "execute_result"
    }
   ],
   "source": [
    "# Most similar words\n",
    "similar = model.wv.most_similar('person',topn=20)\n",
    "\n",
    "similar"
   ]
  },
  {
   "cell_type": "code",
   "execution_count": 51,
   "metadata": {},
   "outputs": [
    {
     "data": {
      "text/plain": [
       "1.0"
      ]
     },
     "execution_count": 51,
     "metadata": {},
     "output_type": "execute_result"
    }
   ],
   "source": [
    "# we can also check words similarity and compare above\n",
    "model.wv.similarity(w1='person',w2='person')"
   ]
  },
  {
   "cell_type": "code",
   "execution_count": 53,
   "metadata": {},
   "outputs": [
    {
     "data": {
      "text/plain": [
       "'morris'"
      ]
     },
     "execution_count": 53,
     "metadata": {},
     "output_type": "execute_result"
    }
   ],
   "source": [
    "# filter on non similarity\n",
    "model.wv.doesnt_match([\"person\",\"light\",\"morris\"])"
   ]
  },
  {
   "cell_type": "code",
   "execution_count": 70,
   "metadata": {
    "scrolled": true
   },
   "outputs": [
    {
     "name": "stderr",
     "output_type": "stream",
     "text": [
      "C:\\Users\\PRATIK PANIGRAHI\\Anaconda3\\lib\\site-packages\\ipykernel_launcher.py:8: DeprecationWarning: Call to deprecated `__getitem__` (Method will be removed in 4.0.0, use self.wv.__getitem__() instead).\n",
      "  \n"
     ]
    },
    {
     "data": {
      "image/png": "[encoded data removed]",
      "text/plain": [
       "<Figure size 1080x576 with 1 Axes>"
      ]
     },
     "metadata": {
      "needs_background": "light"
     },
     "output_type": "display_data"
    }
   ],
   "source": [
    "from sklearn.manifold import  TSNE\n",
    "vocab = ['property','person','regularly','businessman','territory','protect','fight','car','walls','zone','possessions','marked','kitchen','laundry','pipe','table','favourite','father','personal','border']\n",
    "def tsne_plot(model):\n",
    "    labels = []\n",
    "    wordvecs = []\n",
    "\n",
    "    for word in vocab:\n",
    "        wordvecs.append(model[word])\n",
    "        labels.append(word)\n",
    "    \n",
    "    tsne_model = TSNE(perplexity=3, n_components=2, init='pca', random_state=42)\n",
    "    coordinates = tsne_model.fit_transform(wordvecs)\n",
    "\n",
    "    x = []\n",
    "    y = []\n",
    "    for value in coordinates:\n",
    "        x.append(value[0])\n",
    "        y.append(value[1])\n",
    "        \n",
    "    plt.figure(figsize=(15,8)) \n",
    "    for i in range(len(x)):\n",
    "        plt.scatter(x[i],y[i])\n",
    "        plt.annotate(labels[i],\n",
    "                     xy=(x[i], y[i]),\n",
    "                     xytext=(2, 2),\n",
    "                     textcoords='offset points', ha='left')\n",
    "\n",
    "    plt.show()\n",
    "\n",
    "tsne_plot(model)"
   ]
  },
  {
   "cell_type": "code",
   "execution_count": null,
   "metadata": {},
   "outputs": [],
   "source": []
  }
 ],
 "metadata": {
  "kernelspec": {
   "display_name": "Python 3",
   "language": "python",
   "name": "python3"
  },
  "language_info": {
   "codemirror_mode": {
    "name": "ipython",
    "version": 3
   },
   "file_extension": ".py",
   "mimetype": "text/x-python",
   "name": "python",
   "nbconvert_exporter": "python",
   "pygments_lexer": "ipython3",
   "version": "3.7.3"
  }
 },
 "nbformat": 4,
 "nbformat_minor": 2
}
